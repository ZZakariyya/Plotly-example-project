{
 "cells": [
  {
   "cell_type": "code",
   "execution_count": null,
   "id": "2428de7b-01d1-4af5-b471-f09121452909",
   "metadata": {},
   "outputs": [],
   "source": [
    "import pandas as pd\n",
    "import numpy as np\n",
    "\n",
    "import matplotlib.pyplot as plt\n",
    "import seaborn as sns\n",
    "import plotly.express as px\n",
    "import plotly.graph_objs as go\n",
    "import plotly.figure_factory as ff\n",
    "from plotly.subplots import make_subplots\n",
    "import plotly.offline as pyo\n",
    "\n",
    "import requests"
   ]
  },
  {
   "cell_type": "code",
   "execution_count": 1,
   "id": "23d71e16-59d1-461e-bcf4-cedc43dac083",
   "metadata": {},
   "outputs": [
    {
     "ename": "NameError",
     "evalue": "name 'pd' is not defined",
     "output_type": "error",
     "traceback": [
      "\u001b[1;31m---------------------------------------------------------------------------\u001b[0m",
      "\u001b[1;31mNameError\u001b[0m                                 Traceback (most recent call last)",
      "\u001b[1;32mc:\\Users\\niluf\\OneDrive\\Desktop\\Data Science Project\\Plotly Project\\PlotlyScript.ipynb Cell 2\u001b[0m in \u001b[0;36m<cell line: 1>\u001b[1;34m()\u001b[0m\n\u001b[1;32m----> <a href='vscode-notebook-cell:/c%3A/Users/niluf/OneDrive/Desktop/Data%20Science%20Project/Plotly%20Project/PlotlyScript.ipynb#W1sZmlsZQ%3D%3D?line=0'>1</a>\u001b[0m df \u001b[39m=\u001b[39m pd\u001b[39m.\u001b[39mread_csv(\u001b[39m\"\u001b[39m\u001b[39mcredit_risk_dataset\u001b[39m\u001b[39m\"\u001b[39m)\n",
      "\u001b[1;31mNameError\u001b[0m: name 'pd' is not defined"
     ]
    }
   ],
   "source": [
    "df = pd.read_csv(\"credit_risk_dataset\")"
   ]
  },
  {
   "cell_type": "code",
   "execution_count": null,
   "id": "6376fc0e-3c6a-4aba-84d6-8fe793f8ca34",
   "metadata": {},
   "outputs": [],
   "source": [
    "df"
   ]
  },
  {
   "cell_type": "markdown",
   "id": "cc326aee-477e-4ba9-88f0-c9bd4ce97ef7",
   "metadata": {},
   "source": [
    "# Data Visualization"
   ]
  },
  {
   "cell_type": "markdown",
   "id": "52843e74-87e9-405e-a781-04790cdf2a7c",
   "metadata": {},
   "source": [
    "### Pie Charts"
   ]
  },
  {
   "cell_type": "markdown",
   "id": "62500876-3faf-445b-9ba1-eb92bfaf24c7",
   "metadata": {},
   "source": [
    "A pie chart is a type of graph that represents the data in the circular graph. The slices of pie show the relative size of the data, and it is a type of pictorial representation of data. A pie chart requires a list of categorical variables and numerical variables. Here, the term “pie” represents the whole, and the “slices” represent the parts of the whole. \n",
    "\n",
    "In our example im gonna use pie chart to see proportions within different columns of the dataset."
   ]
  },
  {
   "cell_type": "code",
   "execution_count": null,
   "id": "83aebf3c-98a8-4da5-9ef2-c194f569339b",
   "metadata": {},
   "outputs": [],
   "source": [
    "values_loan_status = []\n",
    "for i in list(df.loan_status.unique()):\n",
    "    count = 0\n",
    "    for j in range(len(df.loan_status)):\n",
    "        if df.loan_status[j] == i:\n",
    "            count +=1\n",
    "    values_loan_status.append(count)\n",
    "\n",
    "fig = go.Figure(data=[go.Pie(labels=df.loan_status.unique(), values=values_loan_status)])\n",
    "\n",
    "colors = ['gold', 'mediumturquoise', 'darkorange', 'lightgreen']\n",
    "\n",
    "fig.update_traces(pull=[0.1, 0.1], hoverinfo='label+percent', textinfo='value', textfont_size=20,\n",
    "                  marker=dict(colors=colors, line=dict(color='#000000', width=2)))\n",
    "\n",
    "fig.update_layout(\n",
    "    autosize=False,\n",
    "    width=800,\n",
    "    height=800,)\n",
    "\n",
    "fig.show()"
   ]
  },
  {
   "cell_type": "code",
   "execution_count": null,
   "id": "9713d085-07ac-49a0-9cff-d2180fd642cf",
   "metadata": {},
   "outputs": [],
   "source": [
    "values_person_home_ownership = []\n",
    "for i in list(df.person_home_ownership.unique()):\n",
    "    count = 0\n",
    "    for j in range(len(df.person_home_ownership)):\n",
    "        if df.person_home_ownership[j] == i:\n",
    "            count +=1\n",
    "    values_person_home_ownership.append(count)\n",
    "\n",
    "fig = go.Figure(data=[go.Pie(labels=df.person_home_ownership.unique(), values=values_person_home_ownership)])\n",
    "\n",
    "colors = ['gold', 'mediumturquoise', 'darkorange', 'lightgreen']\n",
    "\n",
    "fig.update_traces(pull=[0.1, 0.1, 0.1, 0.1], hoverinfo='label+percent', textinfo='value', textfont_size=20,\n",
    "                  marker=dict(colors=colors, line=dict(color='#000000', width=2)))\n",
    "\n",
    "fig.update_layout(\n",
    "    autosize=False,\n",
    "    width=800,\n",
    "    height=800,)\n",
    "\n",
    "fig.show()"
   ]
  },
  {
   "cell_type": "code",
   "execution_count": null,
   "id": "71b02325-3298-47bb-b3dd-de76945dec40",
   "metadata": {},
   "outputs": [],
   "source": [
    "values_loan_intent = []\n",
    "for i in list(df.loan_intent.unique()):\n",
    "    count = 0\n",
    "    for j in range(len(df.loan_intent)):\n",
    "        if df.loan_intent[j] == i:\n",
    "            count +=1\n",
    "    values_loan_intent.append(count)\n",
    "\n",
    "fig = go.Figure(data=[go.Pie(labels=df.loan_intent.unique(), values=values_loan_intent)])\n",
    "\n",
    "colors = ['gold', 'mediumturquoise', 'darkorange', 'lightgreen']\n",
    "\n",
    "fig.update_traces(hoverinfo='label+percent', textinfo='value', textfont_size=20,\n",
    "                  marker=dict(colors=colors, line=dict(color='#000000', width=2)))\n",
    "\n",
    "fig.update_layout(\n",
    "    autosize=False,\n",
    "    width=800,\n",
    "    height=800,)\n",
    "\n",
    "fig.show()"
   ]
  },
  {
   "cell_type": "markdown",
   "id": "daf0f9dd-22eb-40d0-9c0a-29adf3bb8460",
   "metadata": {},
   "source": [
    "### Scatter Plots"
   ]
  },
  {
   "cell_type": "markdown",
   "id": "13255cdd-052c-45f5-b243-7fa81e700d86",
   "metadata": {},
   "source": [
    "Scatter plots are the graphs that present the relationship between two variables in a data-set. It represents data points on a two-dimensional plane or on a Cartesian system. The independent variable or attribute is plotted on the X-axis, while the dependent variable is plotted on the Y-axis. These plots are often called scatter graphs or scatter diagrams.\n",
    "\n",
    "I'm gonna use scatter matrix in plotly to see all the correlations in our numerical variables"
   ]
  },
  {
   "cell_type": "code",
   "execution_count": null,
   "id": "6a4203c3-fd70-4d0e-9b2f-ca33eb495eaa",
   "metadata": {},
   "outputs": [],
   "source": [
    "df.dtypes"
   ]
  },
  {
   "cell_type": "code",
   "execution_count": null,
   "id": "c71bdda6-87a6-41ff-9f9f-df777d1c938c",
   "metadata": {},
   "outputs": [],
   "source": [
    "numerical_variables = [i for i in df.columns if df[i].dtype == \"int64\" or df[i].dtype == \"float64\"] \n",
    "\n",
    "fig = px.scatter_matrix(df,\n",
    "    dimensions=numerical_variables,\n",
    "    color=\"loan_status\",\n",
    "    labels={col:col.replace('_', ' ') for col in numerical_variables})\n",
    "\n",
    "fig.update_layout(\n",
    "    title='Scatter Matrix',\n",
    "    dragmode='select',\n",
    "    width=1500,\n",
    "    height=1500,\n",
    "    hovermode='closest',\n",
    ")\n",
    "\n",
    "fig.update_traces(diagonal_visible=False)\n",
    "fig.show()"
   ]
  },
  {
   "cell_type": "code",
   "execution_count": null,
   "id": "b8f3073e-7d6e-4b2c-bce2-93dd0ad49a30",
   "metadata": {},
   "outputs": [],
   "source": [
    "fig = px.scatter(df, x=\"person_age\", y=\"person_income\", color=\"loan_status\",)\n",
    "\n",
    "fig.update_layout(\n",
    "    autosize=False,\n",
    "    width=1200,\n",
    "    height=800,)\n",
    "\n",
    "fig.show()"
   ]
  },
  {
   "cell_type": "markdown",
   "id": "76af5ae5-f49b-45c0-add3-fbadd84fe0e0",
   "metadata": {},
   "source": [
    "### BoxPlot"
   ]
  },
  {
   "cell_type": "code",
   "execution_count": null,
   "id": "8da739a1-bf7a-4a5c-9515-9b4e5628a689",
   "metadata": {},
   "outputs": [],
   "source": [
    "print(numerical_variables)"
   ]
  },
  {
   "cell_type": "code",
   "execution_count": null,
   "id": "2ab673e4-9f08-4cf6-af17-3025a993bdbf",
   "metadata": {},
   "outputs": [],
   "source": [
    "numerical_variables = [i for i in df.columns if df[i].dtype == \"int64\" or df[i].dtype == \"float64\"] \n",
    "\n",
    "numerical_variables.remove(\"loan_status\")\n",
    "\n",
    "figx = make_subplots(rows=3, cols=3)\n",
    "\n",
    "for i in numerical_variables:\n",
    "    \n",
    "\n",
    "figx.show()"
   ]
  },
  {
   "cell_type": "code",
   "execution_count": null,
   "id": "9442d794-5413-48f4-9ccf-b3b4864c3d53",
   "metadata": {},
   "outputs": [],
   "source": [
    "import plotly.figure_factory as ff\n",
    "x = list(df_corr.columns)\n",
    "y = list(df_corr.index)\n",
    "z = np.array(df_corr)\n",
    "\n",
    "fig = ff.create_annotated_heatmap(\n",
    "    z,\n",
    "    x = x,\n",
    "    y = y ,\n",
    "    annotation_text = np.around(z, decimals=2),\n",
    "    hoverinfo='z',\n",
    ")\n",
    "\n",
    "fig.add_trace(\n",
    "    go.Heatmap(\n",
    "        z = np.array(df_corr), \n",
    "        zmin=-1,\n",
    "        zmax=1,\n",
    "        colorscale='ice'\n",
    "    )\n",
    ")\n",
    "\n",
    "fig.show()"
   ]
  },
  {
   "cell_type": "code",
   "execution_count": null,
   "id": "6441945d-470d-4ad1-8913-cd02e5f7f391",
   "metadata": {},
   "outputs": [],
   "source": [
    "fig = px.bar(df, x='person_age', y='loan_amnt', color = 'loan_status', color_discrete_sequence=[\"pink\",\"yellow\"])\n",
    "fig.show()"
   ]
  },
  {
   "cell_type": "code",
   "execution_count": null,
   "id": "a23c5571-0534-4e39-8a8b-369b2ee06011",
   "metadata": {},
   "outputs": [],
   "source": [
    "df.dtypes"
   ]
  },
  {
   "cell_type": "code",
   "execution_count": null,
   "id": "911aeecf-ad36-4654-84ea-9035898f341b",
   "metadata": {},
   "outputs": [],
   "source": [
    "import plotly.express as px\n",
    "\n",
    "fig = px.bar(df, x='person_age', y='loan_amnt', color='loan_status',\n",
    "             labels={'pop':'population of Canada'}, height=400)\n",
    "fig.show()"
   ]
  },
  {
   "cell_type": "code",
   "execution_count": null,
   "id": "5f8c97f2-aa23-4ac6-b726-6a844b01f5e4",
   "metadata": {},
   "outputs": [],
   "source": [
    "import plotly.express as px\n",
    "\n",
    "fig = px.bar(df, x='person_home_ownership', y='loan_amnt',\n",
    "             labels={'pop':'population of Canada'}, height=400)\n",
    "fig.show()"
   ]
  },
  {
   "cell_type": "code",
   "execution_count": null,
   "id": "b157768b-0c6f-4a85-99d1-b7b4d24816c5",
   "metadata": {},
   "outputs": [],
   "source": []
  }
 ],
 "metadata": {
  "kernelspec": {
   "display_name": "Python 3.9.12 ('base')",
   "language": "python",
   "name": "python3"
  },
  "language_info": {
   "codemirror_mode": {
    "name": "ipython",
    "version": 3
   },
   "file_extension": ".py",
   "mimetype": "text/x-python",
   "name": "python",
   "nbconvert_exporter": "python",
   "pygments_lexer": "ipython3",
   "version": "3.9.12"
  },
  "vscode": {
   "interpreter": {
    "hash": "51524bd7ddbe4bc4c2a5d695f77ea8fd83c8ee1cba3b634736572147b3d94938"
   }
  }
 },
 "nbformat": 4,
 "nbformat_minor": 5
}
